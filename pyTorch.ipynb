{
  "nbformat": 4,
  "nbformat_minor": 0,
  "metadata": {
    "colab": {
      "provenance": [],
      "authorship_tag": "ABX9TyO9ZYODuf5Mw+0mtpJgrAGM",
      "include_colab_link": true
    },
    "kernelspec": {
      "name": "python3",
      "display_name": "Python 3"
    },
    "language_info": {
      "name": "python"
    }
  },
  "cells": [
    {
      "cell_type": "markdown",
      "metadata": {
        "id": "view-in-github",
        "colab_type": "text"
      },
      "source": [
        "<a href=\"https://colab.research.google.com/github/VishalNaik2/piTorch/blob/main/pyTorch.ipynb\" target=\"_parent\"><img src=\"https://colab.research.google.com/assets/colab-badge.svg\" alt=\"Open In Colab\"/></a>"
      ]
    },
    {
      "cell_type": "code",
      "execution_count": 2,
      "metadata": {
        "id": "cmWwunh9DYHA"
      },
      "outputs": [],
      "source": [
        "import torch\n",
        "import numpy as np\n"
      ]
    },
    {
      "cell_type": "code",
      "source": [
        "|my_list=[1,2,3,45]\n",
        "my_list"
      ],
      "metadata": {
        "id": "NO46_NgMJjlE",
        "outputId": "15b26379-7448-421a-ad2d-16103262aa03",
        "colab": {
          "base_uri": "https://localhost:8080/"
        }
      },
      "execution_count": 2,
      "outputs": [
        {
          "output_type": "execute_result",
          "data": {
            "text/plain": [
              "[1, 2, 3, 45]"
            ]
          },
          "metadata": {},
          "execution_count": 2
        }
      ]
    },
    {
      "cell_type": "code",
      "source": [
        "np1=np.random.rand(3,3)\n",
        "np1"
      ],
      "metadata": {
        "id": "Yso6EcqcJr2o",
        "outputId": "cf7b8741-aed8-4db9-82dd-8da2c0b76e24",
        "colab": {
          "base_uri": "https://localhost:8080/"
        }
      },
      "execution_count": 5,
      "outputs": [
        {
          "output_type": "execute_result",
          "data": {
            "text/plain": [
              "array([[0.5370359 , 0.57437566, 0.39373073],\n",
              "       [0.09206081, 0.15274603, 0.3509745 ],\n",
              "       [0.64598035, 0.11027611, 0.14534104]])"
            ]
          },
          "metadata": {},
          "execution_count": 5
        }
      ]
    },
    {
      "cell_type": "code",
      "source": [
        "np1.dtype"
      ],
      "metadata": {
        "id": "CuXTA8bDKJAG",
        "outputId": "50ef747e-2831-4a72-e857-afb683f18f64",
        "colab": {
          "base_uri": "https://localhost:8080/"
        }
      },
      "execution_count": 6,
      "outputs": [
        {
          "output_type": "execute_result",
          "data": {
            "text/plain": [
              "dtype('float64')"
            ]
          },
          "metadata": {},
          "execution_count": 6
        }
      ]
    },
    {
      "cell_type": "code",
      "source": [
        "tns1=torch.randn(2,3)\n",
        "tns1"
      ],
      "metadata": {
        "id": "gIvMAZ1aKXHj",
        "outputId": "ce144946-83a9-40ee-c86c-e80d62b805ee",
        "colab": {
          "base_uri": "https://localhost:8080/"
        }
      },
      "execution_count": 10,
      "outputs": [
        {
          "output_type": "execute_result",
          "data": {
            "text/plain": [
              "tensor([[-0.5681, -0.5674,  0.2237],\n",
              "        [ 0.4958, -0.5181, -1.2000]])"
            ]
          },
          "metadata": {},
          "execution_count": 10
        }
      ]
    },
    {
      "cell_type": "code",
      "source": [
        "tns2=torch.zeros(2,3,4)\n",
        "tns2\n",
        "tns2.dtype"
      ],
      "metadata": {
        "id": "Y9nZnVnbLMIj",
        "outputId": "6fb97e56-def2-4616-a1de-0a09eb802b26",
        "colab": {
          "base_uri": "https://localhost:8080/"
        }
      },
      "execution_count": 15,
      "outputs": [
        {
          "output_type": "execute_result",
          "data": {
            "text/plain": [
              "torch.float32"
            ]
          },
          "metadata": {},
          "execution_count": 15
        }
      ]
    },
    {
      "cell_type": "code",
      "source": [
        "#create tesnor from np array\n",
        "my_tensor=torch.tensor(np1)\n",
        "my_tensor"
      ],
      "metadata": {
        "id": "rRL0X8WqL01r",
        "outputId": "c1593b79-0f00-4505-8221-b10f80837d6e",
        "colab": {
          "base_uri": "https://localhost:8080/"
        }
      },
      "execution_count": 14,
      "outputs": [
        {
          "output_type": "execute_result",
          "data": {
            "text/plain": [
              "tensor([[0.5370, 0.5744, 0.3937],\n",
              "        [0.0921, 0.1527, 0.3510],\n",
              "        [0.6460, 0.1103, 0.1453]], dtype=torch.float64)"
            ]
          },
          "metadata": {},
          "execution_count": 14
        }
      ]
    },
    {
      "cell_type": "code",
      "source": [],
      "metadata": {
        "id": "l7-892UHMUNU"
      },
      "execution_count": null,
      "outputs": []
    },
    {
      "cell_type": "markdown",
      "source": [
        "2nd video yt\n"
      ],
      "metadata": {
        "id": "A9mEhqyiPQ3T"
      }
    },
    {
      "cell_type": "code",
      "source": [
        "my_torch=torch.arange(15)\n",
        "my_torch"
      ],
      "metadata": {
        "id": "SoaBJRHuPXIK",
        "outputId": "6226c96a-c586-4a42-8b77-381789b79277",
        "colab": {
          "base_uri": "https://localhost:8080/"
        }
      },
      "execution_count": 20,
      "outputs": [
        {
          "output_type": "execute_result",
          "data": {
            "text/plain": [
              "tensor([ 0,  1,  2,  3,  4,  5,  6,  7,  8,  9, 10, 11, 12, 13, 14])"
            ]
          },
          "metadata": {},
          "execution_count": 20
        }
      ]
    },
    {
      "cell_type": "code",
      "source": [
        "# reshape and view\n",
        "my_torch = my_torch.reshape(3,5)\n",
        "my_torch"
      ],
      "metadata": {
        "id": "n5A7EmLqPihU",
        "outputId": "18da1c97-1001-4705-ba25-db0e333191f2",
        "colab": {
          "base_uri": "https://localhost:8080/"
        }
      },
      "execution_count": 21,
      "outputs": [
        {
          "output_type": "execute_result",
          "data": {
            "text/plain": [
              "tensor([[ 0,  1,  2,  3,  4],\n",
              "        [ 5,  6,  7,  8,  9],\n",
              "        [10, 11, 12, 13, 14]])"
            ]
          },
          "metadata": {},
          "execution_count": 21
        }
      ]
    },
    {
      "cell_type": "code",
      "source": [
        "# Reshape if we don't know the number of item usng -1\n",
        "my_torch2=torch.arange(10)\n",
        "my_torch2"
      ],
      "metadata": {
        "id": "oZtEvYb5R1ji",
        "outputId": "b683a04e-27c7-4658-f51c-53555dc4a87b",
        "colab": {
          "base_uri": "https://localhost:8080/"
        }
      },
      "execution_count": 22,
      "outputs": [
        {
          "output_type": "execute_result",
          "data": {
            "text/plain": [
              "tensor([0, 1, 2, 3, 4, 5, 6, 7, 8, 9])"
            ]
          },
          "metadata": {},
          "execution_count": 22
        }
      ]
    },
    {
      "cell_type": "code",
      "source": [
        "my_torch2=my_torch2.reshape(5,-1)\n",
        "my_torch2\n",
        "\n",
        "#same thing can be don throw view"
      ],
      "metadata": {
        "id": "WVpJS5WTScsU",
        "outputId": "bf14d6a0-3c9e-4acf-c6db-ab1d4657ec60",
        "colab": {
          "base_uri": "https://localhost:8080/"
        }
      },
      "execution_count": 24,
      "outputs": [
        {
          "output_type": "execute_result",
          "data": {
            "text/plain": [
              "tensor([[0, 1],\n",
              "        [2, 3],\n",
              "        [4, 5],\n",
              "        [6, 7],\n",
              "        [8, 9]])"
            ]
          },
          "metadata": {},
          "execution_count": 24
        }
      ]
    },
    {
      "cell_type": "code",
      "source": [
        "#changing the array\n",
        "my_torch3=torch.arange(10)\n",
        "my_torch3"
      ],
      "metadata": {
        "id": "t7sHHviGSnUw",
        "outputId": "b38ebedd-5ff6-4688-bd9e-d1752a9e3296",
        "colab": {
          "base_uri": "https://localhost:8080/"
        }
      },
      "execution_count": 41,
      "outputs": [
        {
          "output_type": "execute_result",
          "data": {
            "text/plain": [
              "tensor([0, 1, 2, 3, 4, 5, 6, 7, 8, 9])"
            ]
          },
          "metadata": {},
          "execution_count": 41
        }
      ]
    },
    {
      "cell_type": "code",
      "source": [
        "my_torch4=my_torch3.view(2,5)\n",
        "my_torch4"
      ],
      "metadata": {
        "id": "w8ffTf-HUhJU",
        "outputId": "b2c2e2e6-862a-446b-8be0-7a7ca0fcf07c",
        "colab": {
          "base_uri": "https://localhost:8080/"
        }
      },
      "execution_count": 31,
      "outputs": [
        {
          "output_type": "execute_result",
          "data": {
            "text/plain": [
              "tensor([[0, 1, 2, 3, 4],\n",
              "        [5, 6, 7, 8, 9]])"
            ]
          },
          "metadata": {},
          "execution_count": 31
        }
      ]
    },
    {
      "cell_type": "code",
      "source": [
        "my_torch3[2]=5656\n",
        "my_torch3\n",
        "my_torch4"
      ],
      "metadata": {
        "id": "pL1gdNxvUl7J",
        "outputId": "75957918-be1d-47ea-a226-44b8a3ef0eb6",
        "colab": {
          "base_uri": "https://localhost:8080/"
        }
      },
      "execution_count": 34,
      "outputs": [
        {
          "output_type": "execute_result",
          "data": {
            "text/plain": [
              "tensor([[   0,    1, 5656,    3,    4],\n",
              "        [   5,    6,    7,    8,    9]])"
            ]
          },
          "metadata": {},
          "execution_count": 34
        }
      ]
    },
    {
      "cell_type": "code",
      "source": [
        "my_torch5=my_torch3.view(5,-1)\n",
        "my_torch5[:,1]"
      ],
      "metadata": {
        "id": "1Zy9G1EXUnxJ",
        "outputId": "304a3f96-0127-4fed-fe32-a11863566ca9",
        "colab": {
          "base_uri": "https://localhost:8080/"
        }
      },
      "execution_count": 42,
      "outputs": [
        {
          "output_type": "execute_result",
          "data": {
            "text/plain": [
              "tensor([1, 3, 5, 7, 9])"
            ]
          },
          "metadata": {},
          "execution_count": 42
        }
      ]
    },
    {
      "cell_type": "code",
      "source": [
        "my_torch5[:,1:]"
      ],
      "metadata": {
        "id": "C1DPyjV3Vjoy",
        "outputId": "b14b3c3c-f3d5-4add-ae5e-1c2c124e6192",
        "colab": {
          "base_uri": "https://localhost:8080/"
        }
      },
      "execution_count": 44,
      "outputs": [
        {
          "output_type": "execute_result",
          "data": {
            "text/plain": [
              "tensor([[1],\n",
              "        [3],\n",
              "        [5],\n",
              "        [7],\n",
              "        [9]])"
            ]
          },
          "metadata": {},
          "execution_count": 44
        }
      ]
    },
    {
      "cell_type": "code",
      "source": [
        "a=torch.tensor([1,2,3,5,6])\n",
        "b=torch.tensor([5,4,3,10,12])\n",
        "a+b\n",
        "\n"
      ],
      "metadata": {
        "id": "OScBQ2E3WIDJ",
        "outputId": "2a2f0da0-2367-4235-c4bf-dfd7118b0d1d",
        "colab": {
          "base_uri": "https://localhost:8080/"
        }
      },
      "execution_count": 4,
      "outputs": [
        {
          "output_type": "execute_result",
          "data": {
            "text/plain": [
              "tensor([ 6,  6,  6, 15, 18])"
            ]
          },
          "metadata": {},
          "execution_count": 4
        }
      ]
    },
    {
      "cell_type": "code",
      "source": [
        "a-b\n"
      ],
      "metadata": {
        "id": "dyrHHJFLqB7w",
        "outputId": "c2522c64-45fe-4316-abed-1b8ea4514d3b",
        "colab": {
          "base_uri": "https://localhost:8080/"
        }
      },
      "execution_count": 9,
      "outputs": [
        {
          "output_type": "execute_result",
          "data": {
            "text/plain": [
              "tensor([-4, -2,  0, -5, -6])"
            ]
          },
          "metadata": {},
          "execution_count": 9
        }
      ]
    },
    {
      "cell_type": "code",
      "source": [
        "a*b\n"
      ],
      "metadata": {
        "id": "X5lDv04yqWyh",
        "outputId": "b47592a7-4ba6-4fa6-f2fd-dd58ec671f65",
        "colab": {
          "base_uri": "https://localhost:8080/"
        }
      },
      "execution_count": 6,
      "outputs": [
        {
          "output_type": "execute_result",
          "data": {
            "text/plain": [
              "tensor([ 5,  8,  9, 50, 72])"
            ]
          },
          "metadata": {},
          "execution_count": 6
        }
      ]
    },
    {
      "cell_type": "code",
      "source": [
        "b/a\n"
      ],
      "metadata": {
        "id": "40ZZjxBEqaO0",
        "outputId": "047f4006-8aeb-46fd-b117-81a6f7644dba",
        "colab": {
          "base_uri": "https://localhost:8080/"
        }
      },
      "execution_count": 7,
      "outputs": [
        {
          "output_type": "execute_result",
          "data": {
            "text/plain": [
              "tensor([5., 2., 1., 2., 2.])"
            ]
          },
          "metadata": {},
          "execution_count": 7
        }
      ]
    },
    {
      "cell_type": "code",
      "source": [
        "b%a\n"
      ],
      "metadata": {
        "id": "3mWEXsrLqcqt",
        "outputId": "f1f9dc54-ce3c-445c-f8a0-3d9faaca2856",
        "colab": {
          "base_uri": "https://localhost:8080/"
        }
      },
      "execution_count": 8,
      "outputs": [
        {
          "output_type": "execute_result",
          "data": {
            "text/plain": [
              "tensor([0, 0, 0, 0, 0])"
            ]
          },
          "metadata": {},
          "execution_count": 8
        }
      ]
    },
    {
      "cell_type": "code",
      "source": [
        "torch.add(a,b)"
      ],
      "metadata": {
        "id": "XNEZvHIVqfo5",
        "outputId": "5796c8de-5dff-4eff-a0bf-ea01c2371372",
        "colab": {
          "base_uri": "https://localhost:8080/"
        }
      },
      "execution_count": 10,
      "outputs": [
        {
          "output_type": "execute_result",
          "data": {
            "text/plain": [
              "tensor([ 6,  6,  6, 15, 18])"
            ]
          },
          "metadata": {},
          "execution_count": 10
        }
      ]
    },
    {
      "cell_type": "code",
      "source": [
        "a.add_(b)"
      ],
      "metadata": {
        "id": "gOp9zecYqkKk",
        "outputId": "5d8e229e-5d4b-4bbf-9e0f-f5bd85d70ef7",
        "colab": {
          "base_uri": "https://localhost:8080/"
        }
      },
      "execution_count": 11,
      "outputs": [
        {
          "output_type": "execute_result",
          "data": {
            "text/plain": [
              "tensor([ 6,  6,  6, 15, 18])"
            ]
          },
          "metadata": {},
          "execution_count": 11
        }
      ]
    },
    {
      "cell_type": "code",
      "source": [
        "a"
      ],
      "metadata": {
        "id": "Lm3BPn_ttHrf",
        "outputId": "431eabdb-2c31-4e7c-de1f-0603d89f0961",
        "colab": {
          "base_uri": "https://localhost:8080/"
        }
      },
      "execution_count": 12,
      "outputs": [
        {
          "output_type": "execute_result",
          "data": {
            "text/plain": [
              "tensor([ 6,  6,  6, 15, 18])"
            ]
          },
          "metadata": {},
          "execution_count": 12
        }
      ]
    },
    {
      "cell_type": "code",
      "source": [],
      "metadata": {
        "id": "CKsnQS5AtItK"
      },
      "execution_count": null,
      "outputs": []
    }
  ]
}